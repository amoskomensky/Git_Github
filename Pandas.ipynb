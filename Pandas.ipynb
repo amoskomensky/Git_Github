{
 "cells": [
  {
   "cell_type": "markdown",
   "id": "75a079dc",
   "metadata": {},
   "source": [
    "# 🐍Python Spracovanie a Vizualizácia Dát\n"
   ]
  },
  {
   "cell_type": "markdown",
   "id": "a6ba4b5e",
   "metadata": {},
   "source": [
    "## I. 🐼 Pandas - Python Data Analysis Library"
   ]
  },
  {
   "cell_type": "code",
   "execution_count": 48,
   "id": "0c897b6e",
   "metadata": {
    "ExecuteTime": {
     "end_time": "2022-05-18T20:27:44.286354Z",
     "start_time": "2022-05-18T20:27:43.987365Z"
    }
   },
   "outputs": [
    {
     "name": "stdout",
     "output_type": "stream",
     "text": [
      "\n",
      "df_zamestnanci\n",
      "  Zamestnanci  Vek\n",
      "0      Monika   24\n",
      "1      Martin   29\n",
      "2       Peter   37\n",
      "3       Pavol   52\n",
      "\n",
      "df_hmotnosti\n",
      "0    2\n",
      "1    5\n",
      "2    7\n",
      "3    9\n",
      "dtype: int64\n",
      "Maximalny pocet riadkov --> 10000\n",
      "\n",
      "Prva hmotnost --> 2\n",
      "Velkosti tabulky --> 4\n",
      "Posledna hmotnost --> 9\n",
      "Prva hmotnost loc [0] --> 2\n",
      "Riadok 0 a 1 [[0, 1]]: \n",
      "0    2\n",
      "1    5\n",
      "dtype: int64\n",
      "\n",
      "df_hmotnosti indexy\n",
      "a    2\n",
      "b    5\n",
      "c    7\n",
      "d    9\n",
      "dtype: int64\n",
      "a --> 2\n",
      "\n",
      "countries.csv\n",
      "       country  year  population\n",
      "0  Afghanistan  1952     8425333\n",
      "1  Afghanistan  1957     9240934\n",
      "2  Afghanistan  1962    10267083\n",
      "3  Afghanistan  1967    11537966\n",
      "4  Afghanistan  1972    13079460\n",
      "------------------\n",
      "       country  year  population\n",
      "1699  Zimbabwe  1987     9216418\n",
      "1700  Zimbabwe  1992    10704340\n",
      "1701  Zimbabwe  1997    11404948\n",
      "1702  Zimbabwe  2002    11926563\n",
      "1703  Zimbabwe  2007    12311143\n",
      "------------------\n",
      "Velkosti/pocty hodnot\n",
      "country       1704\n",
      "year          1704\n",
      "population    1704\n",
      "dtype: int64\n",
      "------------------\n",
      "Priemer\n",
      "year          1.979500e+03\n",
      "population    2.960121e+07\n",
      "dtype: float64\n",
      "------------------\n",
      "Korelacia\n",
      "                year  population\n",
      "year        1.000000    0.082308\n",
      "population  0.082308    1.000000\n",
      "\n",
      "Sme v casti finally\n"
     ]
    },
    {
     "name": "stderr",
     "output_type": "stream",
     "text": [
      "C:\\Users\\ADMINI~1\\AppData\\Local\\Temp/ipykernel_20256/3439851981.py:61: FutureWarning: Dropping of nuisance columns in DataFrame reductions (with 'numeric_only=None') is deprecated; in a future version this will raise TypeError.  Select only valid columns before calling the reduction.\n",
      "  print(df_krajiny.mean())\n"
     ]
    },
    {
     "data": {
      "image/png": "[encoded data removed]",
      "text/plain": [
       "<Figure size 432x288 with 1 Axes>"
      ]
     },
     "metadata": {
      "needs_background": "light"
     },
     "output_type": "display_data"
    },
    {
     "data": {
      "image/png": "[encoded data removed]",
      "text/plain": [
       "<Figure size 432x288 with 1 Axes>"
      ]
     },
     "metadata": {
      "needs_background": "light"
     },
     "output_type": "display_data"
    }
   ],
   "source": [
    "try:\n",
    "    from matplotlib import pyplot as plt\n",
    "    import numpy as np\n",
    "    import pandas as pd\n",
    "    import math\n",
    "    \n",
    "    data_zamestnanci = {\n",
    "        \"Zamestnanci\" : [\"Monika\", \"Martin\", \"Peter\", \"Pavol\"],\n",
    "        \"Vek\" : [24, 29, 37, 52]\n",
    "    }\n",
    "    \n",
    "    print(\"\\ndf_zamestnanci\")\n",
    "    df_zamestnanci = pd.DataFrame(data_zamestnanci)\n",
    "    print(df_zamestnanci)\n",
    "    \n",
    "    print(\"\\ndf_hmotnosti\")\n",
    "    hmotnosti = [2, 5, 7, 9]\n",
    "    df_hmotnosti = pd.Series(hmotnosti)\n",
    "    print(df_hmotnosti)\n",
    "    # cca 60 riadkov default\n",
    "    print(\"Maximalny pocet riadkov -->\", pd.options.display.max_rows) \n",
    "    # Zvýši5 maximálny počet riadkov, aby sa zobrazil celý DataFrame\n",
    "    pd.options.display.max_rows = 10000\n",
    "    \n",
    "    print(\"\\nPrva hmotnost -->\", df_hmotnosti[0])\n",
    "    print(\"Velkosti tabulky -->\", df_hmotnosti.size)\n",
    "    print(\"Posledna hmotnost -->\", df_hmotnosti[df_hmotnosti.size - 1])\n",
    "    print(\"Prva hmotnost loc [0] -->\", df_hmotnosti.loc[0])\n",
    "    print(\"Riadok 0 a 1 [[0, 1]]: \")\n",
    "    print(df_hmotnosti.loc[[0, 1]])\n",
    "    \n",
    "    print(\"\\ndf_hmotnosti indexy\")\n",
    "    df_hmotnosti2 = pd.Series(hmotnosti, index = [\"a\", \"b\", \"c\", \"d\"])\n",
    "    print(df_hmotnosti2)\n",
    "    \n",
    "    print(\"a -->\", df_hmotnosti2.loc[\"a\"])\n",
    "    \n",
    "    print(\"\\ncountries.csv\")\n",
    "    df_krajiny = pd.read_csv('Datasety\\countries.csv')\n",
    "    \n",
    "#     print(type(df_krajiny))\n",
    "    # print(df_krajiny)\n",
    "    # print(df_krajiny.to_string()) \n",
    "    \n",
    "    # Prvých 5 výsledkov/riadkov\n",
    "    print(df_krajiny.head())\n",
    "    \n",
    "    print(\"------------------\")\n",
    "    # Posledných 5 výsledkov/riadkov\n",
    "    print(df_krajiny.tail())\n",
    "    \n",
    "    # Informacie o dataframe\n",
    "#     print(df_krajiny.info())\n",
    "    \n",
    "    print(\"------------------\")\n",
    "    print(\"Velkosti/pocty hodnot\")\n",
    "    print(df_krajiny.count())\n",
    "    \n",
    "    print(\"------------------\")\n",
    "    print(\"Priemer\")\n",
    "    print(df_krajiny.mean())\n",
    "    print(df_krajiny.median())\n",
    "    print(df_krajiny.max())\n",
    "    print(df_krajiny.mode())\n",
    "    \n",
    "    print(\"------------------\")\n",
    "    print(\"Korelacia\")\n",
    "    print(df_krajiny.corr())\n",
    "    \n",
    "#     Číslo sa pohybuje od -1 do 1. Perfektna (okolo 1), dobra (0.8-0.9), zla (0-0.4)\n",
    "#     1 znamená, že existuje vzťah 1 ku 1 (dokonalá korelácia) a pre tento súbor údajov zakaždým, keď sa hodnota v prvom stĺpci zvýšila, vzrástla aj druhá.\n",
    "#     0,9 je tiež dobrý vzťah a ak zvýšite jednu hodnotu, pravdepodobne sa zvýši aj druhá.\n",
    "#     -0,9 by bol rovnako dobrý vzťah ako 0,9, ale ak jednu hodnotu zvýšite, druhá pravdepodobne klesne.\n",
    "#     0,2 znamená NIE dobrý vzťah, čo znamená, že ak jedna hodnota stúpne, neznamená to, že druhá bude.\n",
    "    df_krajiny.plot()\n",
    "    df_krajiny.plot(kind = 'scatter', x = 'year', y = 'population')\n",
    "    \n",
    "    # Vymazanie duplicit\n",
    "#     df_krajiny.drop_duplicates(inplace = True)\n",
    "\n",
    "    # Vymazanie null hodnot\n",
    "    df_krajiny.dropna(inplace = True)\n",
    "    \n",
    "    # Nahradenie hodnot null hodnotov 123\n",
    "    df_krajiny.fillna(123, inplace = True)\n",
    "    \n",
    "except:\n",
    "    print(\"Moduly neboli nacitane...\")\n",
    "    \n",
    "finally:\n",
    "    print(\"\\nSme v casti finally\")"
   ]
  },
  {
   "cell_type": "code",
   "execution_count": null,
   "id": "ccbe39e8",
   "metadata": {},
   "outputs": [],
   "source": []
  },
  {
   "cell_type": "code",
   "execution_count": null,
   "id": "6d98b2b4",
   "metadata": {},
   "outputs": [],
   "source": [
    "# This is an example snippet!\n",
    "# To create your own, add a new snippet block to the\n",
    "# snippets.json file in your jupyter nbextensions directory:\n",
    "# /nbextensions/snippets/snippets.json\n",
    "# C:\\ProgramData\\Anaconda3\\Lib\\site-packages\\jupyter_contrib_nbextensions\\nbextensions\n",
    "import this"
   ]
  },
  {
   "cell_type": "code",
   "execution_count": null,
   "id": "22c6a889",
   "metadata": {},
   "outputs": [],
   "source": []
  }
 ],
 "metadata": {
  "kernelspec": {
   "display_name": "Python 3 (ipykernel)",
   "language": "python",
   "name": "python3"
  },
  "language_info": {
   "codemirror_mode": {
    "name": "ipython",
    "version": 3
   },
   "file_extension": ".py",
   "mimetype": "text/x-python",
   "name": "python",
   "nbconvert_exporter": "python",
   "pygments_lexer": "ipython3",
   "version": "3.9.7"
  },
  "toc": {
   "base_numbering": 1,
   "nav_menu": {},
   "number_sections": true,
   "sideBar": true,
   "skip_h1_title": false,
   "title_cell": "Table of Contents",
   "title_sidebar": "Contents",
   "toc_cell": false,
   "toc_position": {},
   "toc_section_display": true,
   "toc_window_display": false
  },
  "varInspector": {
   "cols": {
    "lenName": 16,
    "lenType": 16,
    "lenVar": 40
   },
   "kernels_config": {
    "python": {
     "delete_cmd_postfix": "",
     "delete_cmd_prefix": "del ",
     "library": "var_list.py",
     "varRefreshCmd": "print(var_dic_list())"
    },
    "r": {
     "delete_cmd_postfix": ") ",
     "delete_cmd_prefix": "rm(",
     "library": "var_list.r",
     "varRefreshCmd": "cat(var_dic_list()) "
    }
   },
   "types_to_exclude": [
    "module",
    "function",
    "builtin_function_or_method",
    "instance",
    "_Feature"
   ],
   "window_display": false
  }
 },
 "nbformat": 4,
 "nbformat_minor": 5
}
